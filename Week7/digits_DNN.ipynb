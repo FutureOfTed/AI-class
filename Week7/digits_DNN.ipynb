{
  "nbformat": 4,
  "nbformat_minor": 0,
  "metadata": {
    "colab": {
      "provenance": [],
      "mount_file_id": "1aDF0370WGiH-e8PzxYpoEm6mxrtvNY9H",
      "authorship_tag": "ABX9TyP+/Xkj0uDtFUfHWjqExbQP",
      "include_colab_link": true
    },
    "kernelspec": {
      "name": "python3",
      "display_name": "Python 3"
    },
    "language_info": {
      "name": "python"
    }
  },
  "cells": [
    {
      "cell_type": "markdown",
      "metadata": {
        "id": "view-in-github",
        "colab_type": "text"
      },
      "source": [
        "<a href=\"https://colab.research.google.com/github/FutureOfTed/AI-class/blob/main/Week7/digits_DNN.ipynb\" target=\"_parent\"><img src=\"https://colab.research.google.com/assets/colab-badge.svg\" alt=\"Open In Colab\"/></a>"
      ]
    },
    {
      "cell_type": "code",
      "execution_count": 1,
      "metadata": {
        "id": "--1PhjuUkina"
      },
      "outputs": [],
      "source": [
        "import matplotlib.pyplot as plt\n",
        "from sklearn import datasets, metrics\n",
        "from sklearn.model_selection import train_test_split\n",
        "import tensorflow as tf\n",
        "from tensorflow.keras import layers, models"
      ]
    },
    {
      "cell_type": "code",
      "source": [
        "digits = datasets.load_digits()"
      ],
      "metadata": {
        "id": "1OoOM7jSmAgy"
      },
      "execution_count": 2,
      "outputs": []
    },
    {
      "cell_type": "code",
      "source": [
        "# 1️⃣ 데이터 준비 및 분할\n",
        "# digits.data: 특성 데이터 (이미지)\n",
        "# digits.target: 레이블 데이터\n",
        "# (1797, 64) 형태의 데이터를 (1797, 8, 8)로 변환할 필요는 없지만,\n",
        "# Fashion MNIST와 유사하게 (이미지 수, 픽셀 수) 형태로 사용\n",
        "x_data = digits.data\n",
        "y_data = digits.target\n",
        "\n",
        "# Scikit-learn 함수를 사용하여 훈련/테스트 데이터 분할\n",
        "x_train, x_test, y_train, y_test = train_test_split(\n",
        "    x_data, y_data, test_size=0.2, random_state=42\n",
        ")"
      ],
      "metadata": {
        "id": "MfrCb3eOmG0q"
      },
      "execution_count": 5,
      "outputs": []
    },
    {
      "cell_type": "code",
      "source": [
        "# 2️⃣ 정규화 (0~1)\n",
        "# digits 데이터셋은 0부터 16까지의 픽셀 값을 가짐\n",
        "x_train = x_train / 16.0\n",
        "x_test = x_test / 16.0"
      ],
      "metadata": {
        "id": "31ILRBvaORg9"
      },
      "execution_count": 7,
      "outputs": []
    },
    {
      "cell_type": "code",
      "source": [
        "# 3️⃣ 데이터 형태 확인\n",
        "# digits 데이터는 이미 (샘플 수, 64) 형태로 평탄화되어 있음\n",
        "# 따라서 Flatten 레이어의 input_shape를 (64,)로 변경해야 함\n",
        "# (Fashion MNIST는 28*28=784, Digits는 8*8=64)\n",
        "print(\"x_train shape:\", x_train.shape) # (1437, 64)\n",
        "print(\"x_test shape:\", x_test.shape)   # (360, 64)"
      ],
      "metadata": {
        "colab": {
          "base_uri": "https://localhost:8080/"
        },
        "id": "pjmKqvHFOWjU",
        "outputId": "d8a5c384-8dec-46fd-c178-5c8decbe59b9"
      },
      "execution_count": 8,
      "outputs": [
        {
          "output_type": "stream",
          "name": "stdout",
          "text": [
            "x_train shape: (1437, 64)\n",
            "x_test shape: (360, 64)\n"
          ]
        }
      ]
    },
    {
      "cell_type": "code",
      "source": [
        "# 4️⃣ DNN 모델 구성\n",
        "model_dnn = models.Sequential([\n",
        "    # digits 이미지는 8x8=64 픽셀이므로, input_shape를 (64,)로 설정\n",
        "    # 데이터가 이미 평탄화되어 있으므로, Flatten은 (64,)를 입력받음\n",
        "    layers.Flatten(input_shape=(64,)),\n",
        "    layers.Dense(256, activation='relu'),\n",
        "    layers.Dropout(0.3),\n",
        "    layers.Dense(128, activation='relu'),\n",
        "    layers.Dropout(0.3),\n",
        "    layers.Dense(10, activation='softmax') # 0~9까지 10개의 클래스\n",
        "])"
      ],
      "metadata": {
        "colab": {
          "base_uri": "https://localhost:8080/"
        },
        "id": "TB1sTX3TOazh",
        "outputId": "d1d70b5d-f2a0-4a43-b1da-a7763e5642e3"
      },
      "execution_count": 9,
      "outputs": [
        {
          "output_type": "stream",
          "name": "stderr",
          "text": [
            "/usr/local/lib/python3.12/dist-packages/keras/src/layers/reshaping/flatten.py:37: UserWarning: Do not pass an `input_shape`/`input_dim` argument to a layer. When using Sequential models, prefer using an `Input(shape)` object as the first layer in the model instead.\n",
            "  super().__init__(**kwargs)\n"
          ]
        }
      ]
    },
    {
      "cell_type": "code",
      "source": [
        "# 5️⃣ 컴파일\n",
        "model_dnn.compile(optimizer='adam',\n",
        "                  loss='sparse_categorical_crossentropy',\n",
        "                  metrics=['accuracy'])"
      ],
      "metadata": {
        "id": "32Blyn7HOfVC"
      },
      "execution_count": 10,
      "outputs": []
    },
    {
      "cell_type": "code",
      "source": [
        "# 6️⃣ 학습\n",
        "print(\"\\n--- Digits DNN 모델 학습 시작 ---\")\n",
        "history_dnn = model_dnn.fit(\n",
        "    x_train, y_train,\n",
        "    epochs=10,\n",
        "    # validation_split을 훈련 데이터에서 0.1로 지정\n",
        "    validation_split=0.1,\n",
        "    batch_size=32, # 데이터셋 크기가 작으므로 배치 사이즈를 줄임\n",
        "    verbose=2\n",
        ")"
      ],
      "metadata": {
        "colab": {
          "base_uri": "https://localhost:8080/"
        },
        "id": "6VqxPYlCOi0k",
        "outputId": "466e3aed-9a6c-472f-d506-d23b742c4639"
      },
      "execution_count": 11,
      "outputs": [
        {
          "output_type": "stream",
          "name": "stdout",
          "text": [
            "\n",
            "--- Digits DNN 모델 학습 시작 ---\n",
            "Epoch 1/10\n",
            "41/41 - 3s - 72ms/step - accuracy: 0.3171 - loss: 2.2436 - val_accuracy: 0.4792 - val_loss: 2.1476\n",
            "Epoch 2/10\n",
            "41/41 - 1s - 22ms/step - accuracy: 0.5700 - loss: 1.9548 - val_accuracy: 0.6319 - val_loss: 1.6838\n",
            "Epoch 3/10\n",
            "41/41 - 0s - 6ms/step - accuracy: 0.6814 - loss: 1.4301 - val_accuracy: 0.7569 - val_loss: 1.1050\n",
            "Epoch 4/10\n",
            "41/41 - 0s - 5ms/step - accuracy: 0.7602 - loss: 0.9872 - val_accuracy: 0.8611 - val_loss: 0.7848\n",
            "Epoch 5/10\n",
            "41/41 - 0s - 7ms/step - accuracy: 0.7951 - loss: 0.7510 - val_accuracy: 0.8750 - val_loss: 0.5798\n",
            "Epoch 6/10\n",
            "41/41 - 0s - 4ms/step - accuracy: 0.8399 - loss: 0.6044 - val_accuracy: 0.9028 - val_loss: 0.4797\n",
            "Epoch 7/10\n",
            "41/41 - 0s - 5ms/step - accuracy: 0.8739 - loss: 0.4974 - val_accuracy: 0.9167 - val_loss: 0.4052\n",
            "Epoch 8/10\n",
            "41/41 - 0s - 5ms/step - accuracy: 0.8693 - loss: 0.4574 - val_accuracy: 0.9097 - val_loss: 0.3664\n",
            "Epoch 9/10\n",
            "41/41 - 0s - 4ms/step - accuracy: 0.8824 - loss: 0.4158 - val_accuracy: 0.9028 - val_loss: 0.3561\n",
            "Epoch 10/10\n",
            "41/41 - 0s - 5ms/step - accuracy: 0.8917 - loss: 0.3735 - val_accuracy: 0.9236 - val_loss: 0.3123\n"
          ]
        }
      ]
    },
    {
      "cell_type": "code",
      "source": [
        "# 7️⃣ 평가\n",
        "print(\"\\n--- 테스트 데이터로 모델 평가 ---\")\n",
        "test_loss, test_acc = model_dnn.evaluate(x_test, y_test, verbose=2)\n",
        "print(f\"✅ Digits DNN Test Accuracy: {test_acc:.4f}\")"
      ],
      "metadata": {
        "colab": {
          "base_uri": "https://localhost:8080/"
        },
        "id": "Gcv3pRWeOkgE",
        "outputId": "2143b738-072a-495e-aacf-2b0449e7d323"
      },
      "execution_count": 12,
      "outputs": [
        {
          "output_type": "stream",
          "name": "stdout",
          "text": [
            "\n",
            "--- 테스트 데이터로 모델 평가 ---\n",
            "12/12 - 0s - 4ms/step - accuracy: 0.9306 - loss: 0.2792\n",
            "✅ Digits DNN Test Accuracy: 0.9306\n"
          ]
        }
      ]
    },
    {
      "cell_type": "code",
      "source": [],
      "metadata": {
        "id": "wjy--w4ZOm1H"
      },
      "execution_count": null,
      "outputs": []
    }
  ]
}