{
  "nbformat": 4,
  "nbformat_minor": 0,
  "metadata": {
    "colab": {
      "provenance": [],
      "mount_file_id": "1cHb5AyJKS-ehYP1Adv_SBE4tjyD5MqOf",
      "authorship_tag": "ABX9TyNCumMnUc9AqhcjU2ro3bja",
      "include_colab_link": true
    },
    "kernelspec": {
      "name": "python3",
      "display_name": "Python 3"
    },
    "language_info": {
      "name": "python"
    }
  },
  "cells": [
    {
      "cell_type": "markdown",
      "metadata": {
        "id": "view-in-github",
        "colab_type": "text"
      },
      "source": [
        "<a href=\"https://colab.research.google.com/github/FutureOfTed/AI-class/blob/main/Week7/MNIST_CNN.ipynb\" target=\"_parent\"><img src=\"https://colab.research.google.com/assets/colab-badge.svg\" alt=\"Open In Colab\"/></a>"
      ]
    },
    {
      "cell_type": "code",
      "execution_count": 1,
      "metadata": {
        "id": "QqXdGUi8a7aO"
      },
      "outputs": [],
      "source": [
        "import tensorflow as tf\n",
        "import numpy as np\n",
        "from tensorflow.keras import layers, models"
      ]
    },
    {
      "cell_type": "code",
      "source": [
        "# 1️⃣ 데이터 로드\n",
        "fashion_mnist = tf.keras.datasets.fashion_mnist\n",
        "(x_train, y_train), (x_test, y_test) = fashion_mnist.load_data()"
      ],
      "metadata": {
        "colab": {
          "base_uri": "https://localhost:8080/"
        },
        "id": "GRKsch7Bd9-X",
        "outputId": "abc51f99-214f-4846-aa36-8dfc92030a09"
      },
      "execution_count": 2,
      "outputs": [
        {
          "output_type": "stream",
          "name": "stdout",
          "text": [
            "Downloading data from https://storage.googleapis.com/tensorflow/tf-keras-datasets/train-labels-idx1-ubyte.gz\n",
            "\u001b[1m29515/29515\u001b[0m \u001b[32m━━━━━━━━━━━━━━━━━━━━\u001b[0m\u001b[37m\u001b[0m \u001b[1m0s\u001b[0m 0us/step\n",
            "Downloading data from https://storage.googleapis.com/tensorflow/tf-keras-datasets/train-images-idx3-ubyte.gz\n",
            "\u001b[1m26421880/26421880\u001b[0m \u001b[32m━━━━━━━━━━━━━━━━━━━━\u001b[0m\u001b[37m\u001b[0m \u001b[1m0s\u001b[0m 0us/step\n",
            "Downloading data from https://storage.googleapis.com/tensorflow/tf-keras-datasets/t10k-labels-idx1-ubyte.gz\n",
            "\u001b[1m5148/5148\u001b[0m \u001b[32m━━━━━━━━━━━━━━━━━━━━\u001b[0m\u001b[37m\u001b[0m \u001b[1m0s\u001b[0m 0us/step\n",
            "Downloading data from https://storage.googleapis.com/tensorflow/tf-keras-datasets/t10k-images-idx3-ubyte.gz\n",
            "\u001b[1m4422102/4422102\u001b[0m \u001b[32m━━━━━━━━━━━━━━━━━━━━\u001b[0m\u001b[37m\u001b[0m \u001b[1m0s\u001b[0m 0us/step\n"
          ]
        }
      ]
    },
    {
      "cell_type": "code",
      "source": [
        "# 2️⃣ 정규화\n",
        "x_train = x_train / 255.0\n",
        "x_test = x_test / 255.0\n",
        "\n",
        "# 데이터를 TensorFlow 텐서로 변환\n",
        "x_train = tf.convert_to_tensor(x_train)\n",
        "x_test = tf.convert_to_tensor(x_test)\n",
        "\n",
        "# x_train[..., tf.newaxis]는 NumPy의 슬라이싱과 유사하게 작동\n",
        "# '...' (Ellipsis)는 \"이전의 모든 차원\"을 의미\n",
        "x_train = x_train[... , tf.newaxis]  # (28, 28, 1)\n",
        "x_test = x_test[... , tf.newaxis]\n",
        "\n",
        "print(\"x_train shape:\", x_train.shape)  # (60000, 28, 28, 1)\n",
        "print(\"x_test shape:\", x_test.shape)    # (10000, 28, 28, 1)"
      ],
      "metadata": {
        "colab": {
          "base_uri": "https://localhost:8080/"
        },
        "id": "LsjMUzBVeCuA",
        "outputId": "0e41d3f5-8250-4f29-e33b-ad17b98cf0b5"
      },
      "execution_count": 4,
      "outputs": [
        {
          "output_type": "stream",
          "name": "stdout",
          "text": [
            "x_train shape: (60000, 28, 28, 1, 1)\n",
            "x_test shape: (10000, 28, 28, 1, 1)\n"
          ]
        }
      ]
    },
    {
      "cell_type": "code",
      "source": [
        "# 4️⃣ CNN 모델 구성\n",
        "model = models.Sequential([\n",
        "    layers.Conv2D(32, (3, 3), activation='relu', input_shape=(28, 28, 1)),\n",
        "    layers.MaxPooling2D((2, 2)),\n",
        "    layers.Conv2D(64, (3, 3), activation='relu'),\n",
        "    layers.MaxPooling2D((2, 2)),\n",
        "    layers.Conv2D(128, (3, 3), activation='relu'),\n",
        "    layers.Flatten(),\n",
        "    layers.Dropout(0.4),\n",
        "    layers.Dense(128, activation='relu'),\n",
        "    layers.Dense(10, activation='softmax')\n",
        "])\n"
      ],
      "metadata": {
        "colab": {
          "base_uri": "https://localhost:8080/"
        },
        "id": "-KHQRjMNfdQb",
        "outputId": "96f4562e-d7dc-47b7-a808-c21da3f65d57"
      },
      "execution_count": 6,
      "outputs": [
        {
          "output_type": "stream",
          "name": "stderr",
          "text": [
            "/usr/local/lib/python3.12/dist-packages/keras/src/layers/convolutional/base_conv.py:113: UserWarning: Do not pass an `input_shape`/`input_dim` argument to a layer. When using Sequential models, prefer using an `Input(shape)` object as the first layer in the model instead.\n",
            "  super().__init__(activity_regularizer=activity_regularizer, **kwargs)\n"
          ]
        }
      ]
    },
    {
      "cell_type": "code",
      "source": [
        "# 5️⃣ 컴파일\n",
        "model.compile(optimizer='adam',\n",
        "              loss='sparse_categorical_crossentropy',\n",
        "              metrics=['accuracy'])"
      ],
      "metadata": {
        "id": "CMnlmHQIf1B5"
      },
      "execution_count": 7,
      "outputs": []
    },
    {
      "cell_type": "code",
      "source": [
        "# 6️⃣ 학습\n",
        "history = model.fit(\n",
        "    x_train, y_train,\n",
        "    epochs=10,\n",
        "    batch_size=128,\n",
        "    validation_split=0.1,\n",
        "    verbose=2\n",
        ")"
      ],
      "metadata": {
        "colab": {
          "base_uri": "https://localhost:8080/"
        },
        "id": "iCapsgnQgZoq",
        "outputId": "998408f1-d45d-42b6-d5aa-f783d25f18da"
      },
      "execution_count": 9,
      "outputs": [
        {
          "output_type": "stream",
          "name": "stdout",
          "text": [
            "Epoch 1/10\n",
            "422/422 - 27s - 64ms/step - accuracy: 0.7075 - loss: 0.7800 - val_accuracy: 0.7457 - val_loss: 0.6825\n",
            "Epoch 2/10\n",
            "422/422 - 41s - 97ms/step - accuracy: 0.7362 - loss: 0.7022 - val_accuracy: 0.7587 - val_loss: 0.6295\n",
            "Epoch 3/10\n",
            "422/422 - 26s - 62ms/step - accuracy: 0.7526 - loss: 0.6484 - val_accuracy: 0.7848 - val_loss: 0.5726\n",
            "Epoch 4/10\n",
            "422/422 - 42s - 98ms/step - accuracy: 0.7713 - loss: 0.6084 - val_accuracy: 0.7912 - val_loss: 0.5368\n",
            "Epoch 5/10\n",
            "422/422 - 40s - 96ms/step - accuracy: 0.7858 - loss: 0.5679 - val_accuracy: 0.8048 - val_loss: 0.5019\n",
            "Epoch 6/10\n",
            "422/422 - 42s - 99ms/step - accuracy: 0.7971 - loss: 0.5358 - val_accuracy: 0.8133 - val_loss: 0.4809\n",
            "Epoch 7/10\n",
            "422/422 - 27s - 65ms/step - accuracy: 0.8078 - loss: 0.5109 - val_accuracy: 0.8257 - val_loss: 0.4565\n",
            "Epoch 8/10\n",
            "422/422 - 40s - 95ms/step - accuracy: 0.8172 - loss: 0.4890 - val_accuracy: 0.8300 - val_loss: 0.4437\n",
            "Epoch 9/10\n",
            "422/422 - 42s - 100ms/step - accuracy: 0.8243 - loss: 0.4703 - val_accuracy: 0.8388 - val_loss: 0.4303\n",
            "Epoch 10/10\n",
            "422/422 - 40s - 95ms/step - accuracy: 0.8296 - loss: 0.4579 - val_accuracy: 0.8435 - val_loss: 0.4157\n"
          ]
        }
      ]
    },
    {
      "cell_type": "code",
      "source": [
        "# 7️⃣ 평가\n",
        "test_loss, test_acc = model.evaluate(x_test, y_test, verbose=2)\n",
        "print(f\"\\n Test Accuracy: {test_acc:.4f}\")"
      ],
      "metadata": {
        "colab": {
          "base_uri": "https://localhost:8080/"
        },
        "id": "c_C04gqQgauI",
        "outputId": "019a8aa2-86a9-43f4-ade7-dfe97dfc0045"
      },
      "execution_count": 10,
      "outputs": [
        {
          "output_type": "stream",
          "name": "stdout",
          "text": [
            "313/313 - 2s - 6ms/step - accuracy: 0.8390 - loss: 0.4405\n",
            "\n",
            " Test Accuracy: 0.8390\n"
          ]
        }
      ]
    },
    {
      "cell_type": "code",
      "source": [
        "# 8️⃣ 예측 예시\n",
        "predictions = model.predict(x_test[:5])\n",
        "print(\"예측 결과:\", np.argmax(predictions, axis=1))\n",
        "print(\"실제 레이블:\", y_test[:5])"
      ],
      "metadata": {
        "colab": {
          "base_uri": "https://localhost:8080/"
        },
        "id": "Ew4YhMctgc7S",
        "outputId": "6642f533-28eb-458d-db19-95e9a2ee639c"
      },
      "execution_count": 11,
      "outputs": [
        {
          "output_type": "stream",
          "name": "stdout",
          "text": [
            "\u001b[1m1/1\u001b[0m \u001b[32m━━━━━━━━━━━━━━━━━━━━\u001b[0m\u001b[37m\u001b[0m \u001b[1m0s\u001b[0m 71ms/step\n",
            "예측 결과: [9 2 1 1 6]\n",
            "실제 레이블: [9 2 1 1 6]\n"
          ]
        }
      ]
    }
  ]
}